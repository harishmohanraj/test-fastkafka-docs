{
 "cells": [
  {
   "cell_type": "code",
   "execution_count": 13,
   "id": "04a433ed",
   "metadata": {},
   "outputs": [],
   "source": [
    "from pydantic import BaseModel\n",
    "import asyncio"
   ]
  },
  {
   "cell_type": "code",
   "execution_count": 2,
   "id": "b29f4790",
   "metadata": {},
   "outputs": [],
   "source": [
    "class TestMsg(BaseModel):\n",
    "    msg: str"
   ]
  },
  {
   "cell_type": "code",
   "execution_count": 11,
   "id": "82162eec",
   "metadata": {},
   "outputs": [],
   "source": [
    "msg = TestMsg(msg=\"hello world\")"
   ]
  },
  {
   "cell_type": "code",
   "execution_count": 4,
   "id": "ed6ef6ba",
   "metadata": {},
   "outputs": [],
   "source": [
    "import time\n",
    "from aiokafka import AIOKafkaProducer, AIOKafkaConsumer\n",
    "\n",
    "from fastkafka.testing import Tester, ApacheKafkaBroker"
   ]
  },
  {
   "cell_type": "markdown",
   "id": "fbe73e11",
   "metadata": {},
   "source": [
    "# Benchmark producing speed"
   ]
  },
  {
   "cell_type": "markdown",
   "id": "9e40b890",
   "metadata": {},
   "source": [
    "## AIOKafka"
   ]
  },
  {
   "cell_type": "code",
   "execution_count": 5,
   "id": "1d9fe827",
   "metadata": {},
   "outputs": [
    {
     "name": "stdout",
     "output_type": "stream",
     "text": [
      "[INFO] fastkafka._testing.apache_kafka_broker: ApacheKafkaBroker.start(): entering...\n",
      "[WARNING] fastkafka._testing.apache_kafka_broker: ApacheKafkaBroker.start(): (<_UnixSelectorEventLoop running=True closed=False debug=False>) is already running!\n",
      "[WARNING] fastkafka._testing.apache_kafka_broker: ApacheKafkaBroker.start(): calling nest_asyncio.apply()\n",
      "[INFO] fastkafka._components.test_dependencies: Java is already installed.\n",
      "[INFO] fastkafka._components.test_dependencies: But not exported to PATH, exporting...\n",
      "[INFO] fastkafka._components.test_dependencies: Kafka is installed.\n",
      "[INFO] fastkafka._components.test_dependencies: But not exported to PATH, exporting...\n",
      "[INFO] fastkafka._testing.apache_kafka_broker: Starting zookeeper...\n",
      "[INFO] fastkafka._testing.apache_kafka_broker: Starting kafka...\n",
      "[INFO] fastkafka._testing.apache_kafka_broker: Local Kafka broker up and running on 127.0.0.1:9092\n",
      "[INFO] fastkafka._testing.apache_kafka_broker: <class 'fastkafka.testing.ApacheKafkaBroker'>.start(): returning 127.0.0.1:9092\n",
      "[INFO] fastkafka._testing.apache_kafka_broker: ApacheKafkaBroker.start(): exited.\n",
      "[INFO] fastkafka._testing.apache_kafka_broker: ApacheKafkaBroker.stop(): entering...\n",
      "[INFO] fastkafka._components._subprocess: terminate_asyncio_process(): Terminating the process 1304983...\n",
      "[INFO] fastkafka._components._subprocess: terminate_asyncio_process(): Process 1304983 terminated.\n",
      "[INFO] fastkafka._components._subprocess: terminate_asyncio_process(): Terminating the process 1304603...\n",
      "[INFO] fastkafka._components._subprocess: terminate_asyncio_process(): Process 1304603 terminated.\n",
      "[INFO] fastkafka._testing.apache_kafka_broker: ApacheKafkaBroker.stop(): exited.\n",
      " Avg AIOKafkaProducer producing speed: 70379.98021616833 msg/s\n"
     ]
    }
   ],
   "source": [
    "with ApacheKafkaBroker(topics=[\"test_topic\"], apply_nest_asyncio=True) as broker:\n",
    "    producer = AIOKafkaProducer(bootstrap_servers=broker)\n",
    "    await producer.start()\n",
    "    t0 = time.time()\n",
    "    for _ in range(1_000_000):\n",
    "        await producer.send(\"test_topic\", msg.json().encode(\"utf-8\"))\n",
    "    await producer.flush()\n",
    "    t1 = time.time()\n",
    "    await producer.stop()\n",
    "    \n",
    "print(f\" Avg AIOKafkaProducer producing speed: {1_000_000/(t1-t0)} msg/s\")"
   ]
  },
  {
   "cell_type": "markdown",
   "id": "58bfeb9f",
   "metadata": {},
   "source": [
    "## FastKafka"
   ]
  },
  {
   "cell_type": "code",
   "execution_count": 6,
   "id": "ace8a79c",
   "metadata": {},
   "outputs": [],
   "source": [
    "from fastkafka import FastKafka"
   ]
  },
  {
   "cell_type": "code",
   "execution_count": 7,
   "id": "ff082d16",
   "metadata": {},
   "outputs": [
    {
     "name": "stdout",
     "output_type": "stream",
     "text": [
      "[INFO] fastkafka._testing.apache_kafka_broker: ApacheKafkaBroker.start(): entering...\n",
      "[WARNING] fastkafka._testing.apache_kafka_broker: ApacheKafkaBroker.start(): (<_UnixSelectorEventLoop running=True closed=False debug=False>) is already running!\n",
      "[WARNING] fastkafka._testing.apache_kafka_broker: ApacheKafkaBroker.start(): calling nest_asyncio.apply()\n",
      "[INFO] fastkafka._components.test_dependencies: Java is already installed.\n",
      "[INFO] fastkafka._components.test_dependencies: Kafka is installed.\n",
      "[INFO] fastkafka._testing.apache_kafka_broker: Starting zookeeper...\n",
      "[INFO] fastkafka._testing.apache_kafka_broker: Starting kafka...\n",
      "[INFO] fastkafka._testing.apache_kafka_broker: Local Kafka broker up and running on 127.0.0.1:9092\n",
      "[INFO] fastkafka._testing.apache_kafka_broker: <class 'fastkafka.testing.ApacheKafkaBroker'>.start(): returning 127.0.0.1:9092\n",
      "[INFO] fastkafka._testing.apache_kafka_broker: ApacheKafkaBroker.start(): exited.\n",
      "[INFO] fastkafka._application.app: _create_producer() : created producer using the config: '{'bootstrap_servers': 'localhost:9092'}'\n",
      "[INFO] fastkafka.benchmark: Throughput = 44,215 - For __main__.to_test_topic(interval=1,sliding_window_size=None)\n",
      "[INFO] fastkafka.benchmark: Throughput = 46,790 - For __main__.to_test_topic(interval=1,sliding_window_size=None)\n",
      "[INFO] fastkafka.benchmark: Throughput = 46,985 - For __main__.to_test_topic(interval=1,sliding_window_size=None)\n",
      "[INFO] fastkafka.benchmark: Throughput = 45,838 - For __main__.to_test_topic(interval=1,sliding_window_size=None)\n",
      "[INFO] fastkafka.benchmark: Throughput = 46,856 - For __main__.to_test_topic(interval=1,sliding_window_size=None)\n",
      "[INFO] fastkafka.benchmark: Throughput = 46,894 - For __main__.to_test_topic(interval=1,sliding_window_size=None)\n",
      "[INFO] fastkafka.benchmark: Throughput = 47,090 - For __main__.to_test_topic(interval=1,sliding_window_size=None)\n",
      "[INFO] fastkafka.benchmark: Throughput = 47,255 - For __main__.to_test_topic(interval=1,sliding_window_size=None)\n",
      "[INFO] fastkafka.benchmark: Throughput = 46,695 - For __main__.to_test_topic(interval=1,sliding_window_size=None)\n",
      "[INFO] fastkafka.benchmark: Throughput = 46,957 - For __main__.to_test_topic(interval=1,sliding_window_size=None)\n",
      "[INFO] fastkafka.benchmark: Throughput = 46,937 - For __main__.to_test_topic(interval=1,sliding_window_size=None)\n",
      "[INFO] fastkafka.benchmark: Throughput = 46,948 - For __main__.to_test_topic(interval=1,sliding_window_size=None)\n",
      "[INFO] fastkafka.benchmark: Throughput = 46,989 - For __main__.to_test_topic(interval=1,sliding_window_size=None)\n",
      "[INFO] fastkafka.benchmark: Throughput = 46,947 - For __main__.to_test_topic(interval=1,sliding_window_size=None)\n",
      "[INFO] fastkafka.benchmark: Throughput = 47,069 - For __main__.to_test_topic(interval=1,sliding_window_size=None)\n",
      "[INFO] fastkafka.benchmark: Throughput = 46,995 - For __main__.to_test_topic(interval=1,sliding_window_size=None)\n",
      "[INFO] fastkafka.benchmark: Throughput = 46,913 - For __main__.to_test_topic(interval=1,sliding_window_size=None)\n",
      "[INFO] fastkafka.benchmark: Throughput = 46,402 - For __main__.to_test_topic(interval=1,sliding_window_size=None)\n",
      "[INFO] fastkafka.benchmark: Throughput = 46,945 - For __main__.to_test_topic(interval=1,sliding_window_size=None)\n",
      "[INFO] fastkafka.benchmark: Throughput = 46,832 - For __main__.to_test_topic(interval=1,sliding_window_size=None)\n",
      "[INFO] fastkafka._testing.apache_kafka_broker: ApacheKafkaBroker.stop(): entering...\n",
      "[INFO] fastkafka._components._subprocess: terminate_asyncio_process(): Terminating the process 1306342...\n",
      "[INFO] fastkafka._components._subprocess: terminate_asyncio_process(): Process 1306342 terminated.\n",
      "[INFO] fastkafka._components._subprocess: terminate_asyncio_process(): Terminating the process 1305964...\n",
      "[INFO] fastkafka._components._subprocess: terminate_asyncio_process(): Process 1305964 terminated.\n",
      "[INFO] fastkafka._testing.apache_kafka_broker: ApacheKafkaBroker.stop(): exited.\n"
     ]
    }
   ],
   "source": [
    "with ApacheKafkaBroker(topics=[\"test_topic\"], apply_nest_asyncio=True) as broker:\n",
    "    app = FastKafka(kafka_brokers={\n",
    "        \"localhost\": {\n",
    "            \"url\": \"127.0.0.1\",\n",
    "            \"port\": \"9092\"\n",
    "        }\n",
    "    })\n",
    "    \n",
    "    @app.benchmark()\n",
    "    @app.produces()\n",
    "    async def to_test_topic(msg: TestMsg) -> TestMsg:\n",
    "        return msg\n",
    "    \n",
    "    async with app:\n",
    "        for _ in range(1_000_000):\n",
    "            await to_test_topic(msg)"
   ]
  },
  {
   "cell_type": "markdown",
   "id": "2255abcd",
   "metadata": {},
   "source": [
    "# Benchmark consuming speed"
   ]
  },
  {
   "cell_type": "markdown",
   "id": "00758b20",
   "metadata": {},
   "source": [
    "## AIOKafka"
   ]
  },
  {
   "cell_type": "code",
   "execution_count": 25,
   "id": "d195d18e",
   "metadata": {},
   "outputs": [
    {
     "name": "stdout",
     "output_type": "stream",
     "text": [
      "[INFO] fastkafka._testing.apache_kafka_broker: ApacheKafkaBroker.start(): entering...\n",
      "[WARNING] fastkafka._testing.apache_kafka_broker: ApacheKafkaBroker.start(): (<_UnixSelectorEventLoop running=True closed=False debug=False>) is already running!\n",
      "[WARNING] fastkafka._testing.apache_kafka_broker: ApacheKafkaBroker.start(): calling nest_asyncio.apply()\n",
      "[INFO] fastkafka._components.test_dependencies: Java is already installed.\n",
      "[INFO] fastkafka._components.test_dependencies: Kafka is installed.\n",
      "[INFO] fastkafka._testing.apache_kafka_broker: Starting zookeeper...\n",
      "[INFO] fastkafka._testing.apache_kafka_broker: Starting kafka...\n",
      "[INFO] fastkafka._testing.apache_kafka_broker: Local Kafka broker up and running on 127.0.0.1:9092\n",
      "[INFO] fastkafka._testing.apache_kafka_broker: <class 'fastkafka.testing.ApacheKafkaBroker'>.start(): returning 127.0.0.1:9092\n",
      "[INFO] fastkafka._testing.apache_kafka_broker: ApacheKafkaBroker.start(): exited.\n",
      "[INFO] aiokafka.consumer.subscription_state: Updating subscribed topics to: frozenset({'test_topic'})\n",
      "[INFO] aiokafka.consumer.group_coordinator: Metadata for topic has changed from {} to {'test_topic': 1}. \n",
      "[INFO] fastkafka._testing.apache_kafka_broker: ApacheKafkaBroker.stop(): entering...\n",
      "[INFO] fastkafka._components._subprocess: terminate_asyncio_process(): Terminating the process 1322777...\n",
      "[INFO] fastkafka._components._subprocess: terminate_asyncio_process(): Process 1322777 terminated.\n",
      "[INFO] fastkafka._components._subprocess: terminate_asyncio_process(): Terminating the process 1322397...\n",
      "[INFO] fastkafka._components._subprocess: terminate_asyncio_process(): Process 1322397 terminated.\n",
      "[INFO] fastkafka._testing.apache_kafka_broker: ApacheKafkaBroker.stop(): exited.\n",
      " Avg AIOKafkaProducer consuming speed: 212139.9597398262 msg/s\n",
      "[ERROR] aiokafka: Unable connect to node with id 0: [Errno 111] Connect call failed ('172.26.0.2', 9092)\n",
      "[ERROR] aiokafka: Unable to update metadata from [0]\n",
      "[ERROR] aiokafka: Unable connect to node with id 0: [Errno 111] Connect call failed ('172.26.0.2', 9092)\n",
      "[ERROR] aiokafka: Unable to update metadata from [0]\n"
     ]
    }
   ],
   "source": [
    "with ApacheKafkaBroker(topics=[\"test_topic\"], apply_nest_asyncio=True) as broker:\n",
    "    producer = AIOKafkaProducer(bootstrap_servers=broker)\n",
    "    await producer.start()\n",
    "    for _ in range(1_000_000):\n",
    "        await producer.send(\"test_topic\", msg.json().encode(\"utf-8\"))\n",
    "    await producer.flush()\n",
    "    await producer.stop()\n",
    "\n",
    "    consumer = AIOKafkaConsumer(\n",
    "        \"test_topic\", bootstrap_servers=broker, auto_offset_reset=\"earliest\"\n",
    "    )\n",
    "\n",
    "    i = 0\n",
    "\n",
    "    await consumer.start()\n",
    "    t0 = time.time()\n",
    "    try:\n",
    "        async for _ in consumer:\n",
    "            i += 1\n",
    "            if i == 1_000_000:\n",
    "                break\n",
    "            \n",
    "    finally:\n",
    "        await consumer.stop()\n",
    "    t1 = time.time()\n",
    "\n",
    "print(f\" Avg AIOKafkaProducer consuming speed: {1_000_000/(t1-t0)} msg/s\")"
   ]
  },
  {
   "cell_type": "markdown",
   "id": "09b326ea",
   "metadata": {},
   "source": [
    "## FastKafka"
   ]
  },
  {
   "cell_type": "code",
   "execution_count": 24,
   "id": "5fe8a419",
   "metadata": {},
   "outputs": [
    {
     "name": "stdout",
     "output_type": "stream",
     "text": [
      "[INFO] fastkafka._testing.apache_kafka_broker: ApacheKafkaBroker.start(): entering...\n",
      "[WARNING] fastkafka._testing.apache_kafka_broker: ApacheKafkaBroker.start(): (<_UnixSelectorEventLoop running=True closed=False debug=False>) is already running!\n",
      "[WARNING] fastkafka._testing.apache_kafka_broker: ApacheKafkaBroker.start(): calling nest_asyncio.apply()\n",
      "[INFO] fastkafka._components.test_dependencies: Java is already installed.\n",
      "[INFO] fastkafka._components.test_dependencies: Kafka is installed.\n",
      "[INFO] fastkafka._testing.apache_kafka_broker: Starting zookeeper...\n",
      "[INFO] fastkafka._testing.apache_kafka_broker: Starting kafka...\n",
      "[INFO] fastkafka._testing.apache_kafka_broker: Local Kafka broker up and running on 127.0.0.1:9092\n",
      "[INFO] fastkafka._testing.apache_kafka_broker: <class 'fastkafka.testing.ApacheKafkaBroker'>.start(): returning 127.0.0.1:9092\n",
      "[INFO] fastkafka._testing.apache_kafka_broker: ApacheKafkaBroker.start(): exited.\n",
      "[INFO] fastkafka._components.aiokafka_consumer_loop: aiokafka_consumer_loop() starting...\n",
      "[INFO] fastkafka._components.aiokafka_consumer_loop: aiokafka_consumer_loop(): Consumer created using the following parameters: {'bootstrap_servers': 'localhost:9092', 'auto_offset_reset': 'earliest', 'max_poll_records': 100}\n",
      "[INFO] fastkafka._components.aiokafka_consumer_loop: aiokafka_consumer_loop(): Consumer started.\n",
      "[INFO] aiokafka.consumer.subscription_state: Updating subscribed topics to: frozenset({'test_topic'})\n",
      "[INFO] aiokafka.consumer.consumer: Subscribed to topic(s): {'test_topic'}\n",
      "[INFO] fastkafka._components.aiokafka_consumer_loop: aiokafka_consumer_loop(): Consumer subscribed.\n",
      "[INFO] aiokafka.consumer.group_coordinator: Metadata for topic has changed from {} to {'test_topic': 1}. \n",
      "[INFO] fastkafka.benchmark: Throughput = 146,553 - For __main__.on_test_topic(interval=1,sliding_window_size=None)\n",
      "[INFO] fastkafka.benchmark: Throughput = 147,044 - For __main__.on_test_topic(interval=1,sliding_window_size=None)\n",
      "[INFO] fastkafka.benchmark: Throughput = 146,742 - For __main__.on_test_topic(interval=1,sliding_window_size=None)\n",
      "[INFO] fastkafka.benchmark: Throughput = 146,614 - For __main__.on_test_topic(interval=1,sliding_window_size=None)\n",
      "[INFO] fastkafka._components.aiokafka_consumer_loop: _aiokafka_consumer_loop(): Consumer loop shutting down, waiting for send_stream to drain...\n",
      "[INFO] fastkafka._components.aiokafka_consumer_loop: aiokafka_consumer_loop(): Consumer stopped.\n",
      "[INFO] fastkafka._components.aiokafka_consumer_loop: aiokafka_consumer_loop() finished.\n",
      "[INFO] fastkafka._testing.apache_kafka_broker: ApacheKafkaBroker.stop(): entering...\n",
      "[INFO] fastkafka._components._subprocess: terminate_asyncio_process(): Terminating the process 1321408...\n",
      "[INFO] fastkafka._components._subprocess: terminate_asyncio_process(): Process 1321408 terminated.\n",
      "[INFO] fastkafka._components._subprocess: terminate_asyncio_process(): Terminating the process 1321029...\n",
      "[INFO] fastkafka._components._subprocess: terminate_asyncio_process(): Process 1321029 terminated.\n",
      "[INFO] fastkafka._testing.apache_kafka_broker: ApacheKafkaBroker.stop(): exited.\n",
      "[ERROR] aiokafka: Unable connect to node with id 0: [Errno 111] Connect call failed ('172.26.0.2', 9092)\n",
      "[ERROR] aiokafka: Unable to update metadata from [0]\n"
     ]
    }
   ],
   "source": [
    "with ApacheKafkaBroker(topics=[\"test_topic\"], apply_nest_asyncio=True) as broker:\n",
    "    producer = AIOKafkaProducer(bootstrap_servers=broker)\n",
    "    await producer.start()\n",
    "    t0 = time.time()\n",
    "    for _ in range(1_000_000):\n",
    "        await producer.send(\"test_topic\", msg.json().encode(\"utf-8\"))\n",
    "    await producer.flush()\n",
    "    t1 = time.time()\n",
    "    await producer.stop()\n",
    "    \n",
    "    app = FastKafka(kafka_brokers={\n",
    "        \"localhost\": {\n",
    "            \"url\": \"127.0.0.1\",\n",
    "            \"port\": \"9092\"\n",
    "        }\n",
    "    })\n",
    "    \n",
    "    i = 0\n",
    "    \n",
    "    @app.consumes(auto_offset_reset=\"earliest\")\n",
    "    @app.benchmark()\n",
    "    async def on_test_topic(msg: TestMsg):\n",
    "        i += 1\n",
    "        if i != 1_000_000:\n",
    "    \n",
    "    async with app:\n",
    "        await asyncio.sleep(5)"
   ]
  },
  {
   "cell_type": "code",
   "execution_count": 22,
   "id": "4487d207",
   "metadata": {},
   "outputs": [
    {
     "data": {
      "text/plain": [
       "1000000"
      ]
     },
     "execution_count": 22,
     "metadata": {},
     "output_type": "execute_result"
    }
   ],
   "source": [
    "i"
   ]
  }
 ],
 "metadata": {
  "kernelspec": {
   "display_name": "Python 3 (ipykernel)",
   "language": "python",
   "name": "python3"
  },
  "language_info": {
   "codemirror_mode": {
    "name": "ipython",
    "version": 3
   },
   "file_extension": ".py",
   "mimetype": "text/x-python",
   "name": "python",
   "nbconvert_exporter": "python",
   "pygments_lexer": "ipython3",
   "version": "3.11.2"
  }
 },
 "nbformat": 4,
 "nbformat_minor": 5
}
