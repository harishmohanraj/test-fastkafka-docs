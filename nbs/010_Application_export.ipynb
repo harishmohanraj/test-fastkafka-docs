{
 "cells": [
  {
   "cell_type": "code",
   "execution_count": null,
   "id": "90b702dd",
   "metadata": {},
   "outputs": [],
   "source": [
    "# | default_exp __init__"
   ]
  },
  {
   "cell_type": "code",
   "execution_count": null,
   "id": "94e92657",
   "metadata": {},
   "outputs": [],
   "source": [
    "# | export\n",
    "\n",
    "from fastkafka._application.app import FastKafka\n",
    "from fastkafka._components.meta import export\n",
    "from fastkafka._components.producer_decorator import KafkaEvent\n",
    "from fastkafka._components.aiokafka_consumer_loop import EventMetadata\n",
    "\n",
    "__all__ = [\n",
    "    \"FastKafka\",\n",
    "    \"KafkaEvent\",\n",
    "    \"EventMetadata\"\n",
    "]"
   ]
  },
  {
   "cell_type": "code",
   "execution_count": null,
   "id": "253f85c7",
   "metadata": {},
   "outputs": [],
   "source": [
    "# | export\n",
    "\n",
    "\n",
    "@export(\"_dummy\")\n",
    "def dummy() -> None:\n",
    "    pass"
   ]
  }
 ],
 "metadata": {
  "kernelspec": {
   "display_name": "python3",
   "language": "python",
   "name": "python3"
  }
 },
 "nbformat": 4,
 "nbformat_minor": 5
}
