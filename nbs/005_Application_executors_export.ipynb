{
 "cells": [
  {
   "cell_type": "code",
   "execution_count": null,
   "id": "90b702dd",
   "metadata": {},
   "outputs": [],
   "source": [
    "# | default_exp executors"
   ]
  },
  {
   "cell_type": "code",
   "execution_count": null,
   "id": "94e92657",
   "metadata": {},
   "outputs": [],
   "source": [
    "# | export\n",
    "\n",
    "\n",
    "from fastkafka._components.meta import export\n",
    "from fastkafka._components.task_streaming import SequentialExecutor, DynamicTaskExecutor\n",
    "\n",
    "__all__ = [\"SequentialExecutor\", \"DynamicTaskExecutor\"]"
   ]
  },
  {
   "cell_type": "code",
   "execution_count": null,
   "id": "253f85c7",
   "metadata": {},
   "outputs": [],
   "source": [
    "# | export\n",
    "\n",
    "\n",
    "@export(\"_dummy\")\n",
    "def dummy() -> None:\n",
    "    pass"
   ]
  }
 ],
 "metadata": {
  "kernelspec": {
   "display_name": "python3",
   "language": "python",
   "name": "python3"
  }
 },
 "nbformat": 4,
 "nbformat_minor": 5
}
