{
 "cells": [
  {
   "cell_type": "code",
   "execution_count": null,
   "id": "7427cbb3",
   "metadata": {},
   "outputs": [],
   "source": [
    "# | default_exp _components.test_dependencies"
   ]
  },
  {
   "cell_type": "markdown",
   "id": "5ea7e8b8",
   "metadata": {},
   "source": [
    "# Install Test Dependencies"
   ]
  },
  {
   "cell_type": "code",
   "execution_count": null,
   "id": "f96418b5",
   "metadata": {},
   "outputs": [],
   "source": [
    "# | export\n",
    "import platform\n",
    "import shutil\n",
    "import tarfile\n",
    "from contextlib import contextmanager\n",
    "from os import environ, rename\n",
    "from os.path import expanduser\n",
    "from pathlib import Path\n",
    "from tempfile import TemporaryDirectory\n",
    "from typing import *\n",
    "\n",
    "from fastkafka._components.helpers import change_dir, in_notebook\n",
    "from fastkafka._components.logger import get_logger\n",
    "\n",
    "if in_notebook():\n",
    "    from tqdm.notebook import tqdm\n",
    "else:\n",
    "    from tqdm import tqdm"
   ]
  },
  {
   "cell_type": "code",
   "execution_count": null,
   "id": "19b144a5",
   "metadata": {},
   "outputs": [],
   "source": [
    "from fastkafka._components.logger import suppress_timestamps"
   ]
  },
  {
   "cell_type": "code",
   "execution_count": null,
   "id": "68b5eebe",
   "metadata": {},
   "outputs": [],
   "source": [
    "# | export\n",
    "\n",
    "logger = get_logger(__name__)"
   ]
  },
  {
   "cell_type": "code",
   "execution_count": null,
   "id": "cd7f23f5",
   "metadata": {},
   "outputs": [
    {
     "name": "stdout",
     "output_type": "stream",
     "text": [
      "[INFO] __main__: ok\n"
     ]
    }
   ],
   "source": [
    "suppress_timestamps()\n",
    "logger = get_logger(__name__, level=20)\n",
    "logger.info(\"ok\")"
   ]
  },
  {
   "cell_type": "code",
   "execution_count": null,
   "id": "d3337f8e",
   "metadata": {},
   "outputs": [],
   "source": [
    "# | export\n",
    "\n",
    "\n",
    "def check_java(*, potential_jdk_path: Optional[List[Path]] = None) -> bool:\n",
    "    \"\"\"Checks if JDK 11 is installed on the machine and exports it to PATH if necessary.\n",
    "\n",
    "    Args:\n",
    "        potential_jdk_path: Optional. List of potential paths where JDK 11 may be installed.\n",
    "                            If not provided, it defaults to searching for JDK 11 in the user's home directory.\n",
    "\n",
    "    Returns:\n",
    "        bool: True if JDK 11 is installed and exported to PATH, False otherwise.\n",
    "    \"\"\"\n",
    "    if potential_jdk_path is None:\n",
    "        potential_jdk_path = list(Path(expanduser(\"~\") + \"/.jdk\").glob(\"jdk-11*\"))\n",
    "\n",
    "    if potential_jdk_path != []:\n",
    "        logger.info(\"Java is already installed.\")\n",
    "        if not shutil.which(\"java\"):\n",
    "            logger.info(\"But not exported to PATH, exporting...\")\n",
    "            env_path_separator = \";\" if platform.system() == \"Windows\" else \":\"\n",
    "            environ[\"PATH\"] = (\n",
    "                environ[\"PATH\"] + f\"{env_path_separator}{potential_jdk_path[0]/ 'bin'}\"\n",
    "            )\n",
    "        return True\n",
    "    return False"
   ]
  },
  {
   "cell_type": "code",
   "execution_count": null,
   "id": "1d8daf9f",
   "metadata": {},
   "outputs": [
    {
     "name": "stdout",
     "output_type": "stream",
     "text": [
      "[INFO] __main__: Java is already installed.\n",
      "[INFO] __main__: But not exported to PATH, exporting...\n"
     ]
    }
   ],
   "source": [
    "assert check_java()"
   ]
  },
  {
   "cell_type": "code",
   "execution_count": null,
   "id": "374f061d",
   "metadata": {},
   "outputs": [],
   "source": [
    "# | export\n",
    "\n",
    "\n",
    "def _install_java() -> None:\n",
    "    \"\"\"Checks if jdk-11 is installed on the machine and installs it if not\n",
    "    \n",
    "    Returns:\n",
    "       None\n",
    "\n",
    "    Raises:\n",
    "        RuntimeError: If JDK 11 installation fails.\n",
    "    \"\"\"\n",
    "    try:\n",
    "        import jdk\n",
    "    except Exception as e:\n",
    "        msg = \"Please install test version of fastkafka using 'pip install fastkafka[test]' command\"\n",
    "        logger.error(msg)\n",
    "        raise RuntimeError(msg)\n",
    "\n",
    "    if not check_java():\n",
    "        logger.info(\"Installing Java...\")\n",
    "        logger.info(\" - installing jdk...\")\n",
    "        jdk_bin_path = Path(jdk.install(\"11\"))\n",
    "        logger.info(f\" - jdk path: {jdk_bin_path}\")\n",
    "        env_path_separator = \";\" if platform.system() == \"Windows\" else \":\"\n",
    "        environ[\"PATH\"] = (\n",
    "            environ[\"PATH\"] + f\"{env_path_separator}{jdk_bin_path / 'bin'}\"\n",
    "        )\n",
    "        logger.info(\"Java installed.\")"
   ]
  },
  {
   "cell_type": "code",
   "execution_count": null,
   "id": "69a5925a",
   "metadata": {},
   "outputs": [
    {
     "name": "stdout",
     "output_type": "stream",
     "text": [
      "[INFO] __main__: Java is already installed.\n",
      "[INFO] __main__: But not exported to PATH, exporting...\n"
     ]
    },
    {
     "ename": "AssertionError",
     "evalue": "",
     "output_type": "error",
     "traceback": [
      "\u001b[1;31m---------------------------------------------------------------------------\u001b[0m",
      "\u001b[1;31mAssertionError\u001b[0m                            Traceback (most recent call last)",
      "Cell \u001b[1;32mIn[9], line 4\u001b[0m\n\u001b[0;32m      1\u001b[0m \u001b[38;5;66;03m# | notest\u001b[39;00m\n\u001b[0;32m      3\u001b[0m _install_java()\n\u001b[1;32m----> 4\u001b[0m \u001b[38;5;28;01massert\u001b[39;00m shutil\u001b[38;5;241m.\u001b[39mwhich(\u001b[38;5;124m\"\u001b[39m\u001b[38;5;124mjava\u001b[39m\u001b[38;5;124m\"\u001b[39m)\n\u001b[0;32m      5\u001b[0m _install_java()\n\u001b[0;32m      6\u001b[0m \u001b[38;5;28;01massert\u001b[39;00m shutil\u001b[38;5;241m.\u001b[39mwhich(\u001b[38;5;124m\"\u001b[39m\u001b[38;5;124mjava\u001b[39m\u001b[38;5;124m\"\u001b[39m)\n",
      "\u001b[1;31mAssertionError\u001b[0m: "
     ]
    }
   ],
   "source": [
    "# | notest\n",
    "\n",
    "_install_java()\n",
    "assert shutil.which(\"java\")\n",
    "_install_java()\n",
    "assert shutil.which(\"java\")"
   ]
  },
  {
   "cell_type": "code",
   "execution_count": null,
   "id": "a015d2c2",
   "metadata": {},
   "outputs": [],
   "source": [
    "# | export\n",
    "\n",
    "# ToDo: move it somewhere\n",
    "kafka_version = \"3.3.2\"\n",
    "kafka_fname = f\"kafka_2.13-{kafka_version}\"\n",
    "kafka_url = f\"https://dlcdn.apache.org/kafka/{kafka_version}/{kafka_fname}.tgz\"\n",
    "local_path = (\n",
    "    Path(expanduser(\"~\")).parent / \"Public\"\n",
    "    if platform.system() == \"Windows\"\n",
    "    else Path(expanduser(\"~\")) / \".local\"\n",
    ")\n",
    "tgz_path = local_path / f\"{kafka_fname}.tgz\"\n",
    "kafka_path = (\n",
    "    local_path / \"kafka\"\n",
    "    if platform.system() == \"Windows\"\n",
    "    else local_path / f\"{kafka_fname}\"\n",
    ")\n",
    "\n",
    "\n",
    "def check_kafka(kafka_path: Path = kafka_path) -> bool:\n",
    "    \"\"\"Checks if Kafka is installed on the machine and exports it to PATH if necessary.\n",
    "\n",
    "    Args:\n",
    "        kafka_path: Path to the Kafka installation directory. Defaults to the global variable `kafka_path`.\n",
    "\n",
    "    Returns:\n",
    "        bool: True if Kafka is installed and exported to PATH, False otherwise.\n",
    "    \"\"\"\n",
    "    if (kafka_path / \"bin\").exists():\n",
    "        logger.info(\"Kafka is installed.\")\n",
    "        if not shutil.which(\"kafka-server-start.sh\"):\n",
    "            logger.info(\"But not exported to PATH, exporting...\")\n",
    "            kafka_binary_path = (\n",
    "                f\";{kafka_path / 'bin' / 'windows'}\"\n",
    "                if platform.system() == \"Windows\"\n",
    "                else f\":{kafka_path / 'bin'}\"\n",
    "            )\n",
    "            environ[\"PATH\"] = environ[\"PATH\"] + kafka_binary_path\n",
    "        return True\n",
    "    return False"
   ]
  },
  {
   "cell_type": "code",
   "execution_count": null,
   "id": "9d1dcfa4",
   "metadata": {},
   "outputs": [],
   "source": [
    "# | export\n",
    "\n",
    "\n",
    "def _install_kafka(\n",
    "    *,\n",
    "    kafka_url: str = kafka_url,\n",
    "    local_path: Path = local_path,\n",
    "    tgz_path: Path = tgz_path,\n",
    "    kafka_path: Path = kafka_path,\n",
    ") -> None:\n",
    "    \"\"\"Checks if Kafka is installed on the machine and installs it if not.\n",
    "\n",
    "    Args:\n",
    "        kafka_url: URL to download the Kafka installation package. Defaults to the global variable `kafka_url`.\n",
    "        local_path: Path where the Kafka installation package will be stored. Defaults to the global variable `local_path`.\n",
    "        tgz_path: Path where the Kafka installation package will be extracted. Defaults to the global variable `tgz_path`.\n",
    "        kafka_path: Path where Kafka will be installed. Defaults to the global variable `kafka_path`.\n",
    "\n",
    "    Returns:\n",
    "       None\n",
    "\n",
    "    Raises:\n",
    "        RuntimeError: If Kafka installation fails.\n",
    "    \"\"\"\n",
    "    try:\n",
    "        import requests\n",
    "    except Exception as e:\n",
    "        msg = \"Please install test version of fastkafka using 'pip install fastkafka[test]' command\"\n",
    "        logger.error(msg)\n",
    "        raise RuntimeError(msg)\n",
    "\n",
    "    if not check_kafka():\n",
    "        logger.info(\"Installing Kafka...\")\n",
    "        local_path.mkdir(exist_ok=True, parents=True)\n",
    "        response = requests.get(\n",
    "            kafka_url,\n",
    "            stream=True,\n",
    "            timeout=60,\n",
    "        )\n",
    "        try:\n",
    "            total = response.raw.length_remaining // 128\n",
    "        except Exception:\n",
    "            total = None\n",
    "\n",
    "        with open(tgz_path, \"wb\") as f:\n",
    "            for data in tqdm(response.iter_content(chunk_size=128), total=total):\n",
    "                f.write(data)\n",
    "\n",
    "        with tarfile.open(tgz_path) as tar:\n",
    "            for tarinfo in tar:\n",
    "                tar.extract(tarinfo, local_path)\n",
    "\n",
    "        if platform.system() == \"Windows\":\n",
    "            rename(local_path / f\"{kafka_fname}\", kafka_path)\n",
    "\n",
    "        kafka_binary_path = (\n",
    "            f\";{kafka_path / 'bin' / 'windows'}\"\n",
    "            if platform.system() == \"Windows\"\n",
    "            else f\":{kafka_path / 'bin'}\"\n",
    "        )\n",
    "        environ[\"PATH\"] = environ[\"PATH\"] + kafka_binary_path\n",
    "        logger.info(f\"Kafka installed in {kafka_path}.\")"
   ]
  },
  {
   "cell_type": "code",
   "execution_count": null,
   "id": "0417b349",
   "metadata": {},
   "outputs": [],
   "source": [
    "# | notest\n",
    "\n",
    "script_extension = \"bat\" if platform.system() == \"Windows\" else \"sh\"\n",
    "\n",
    "_install_kafka()\n",
    "assert shutil.which(f\"kafka-server-start.{script_extension}\")\n",
    "_install_kafka()\n",
    "assert shutil.which(f\"kafka-server-start.{script_extension}\")"
   ]
  },
  {
   "cell_type": "code",
   "execution_count": null,
   "id": "eb3faa78",
   "metadata": {},
   "outputs": [],
   "source": [
    "# | export\n",
    "\n",
    "\n",
    "def _install_testing_deps() -> None:\n",
    "    \"\"\"Installs Java and Kafka dependencies required for testing.\n",
    "\n",
    "    Raises:\n",
    "        RuntimeError: If Java or Kafka installation fails.\n",
    "    \"\"\"\n",
    "    _install_java()\n",
    "    _install_kafka()"
   ]
  },
  {
   "cell_type": "code",
   "execution_count": null,
   "id": "21cd9601",
   "metadata": {},
   "outputs": [],
   "source": [
    "script_extension = \"bat\" if platform.system() == \"Windows\" else \"sh\"\n",
    "\n",
    "_install_testing_deps()\n",
    "assert shutil.which(\"java\")\n",
    "assert shutil.which(f\"kafka-server-start.{script_extension}\")"
   ]
  },
  {
   "cell_type": "code",
   "execution_count": null,
   "id": "a798e8ef",
   "metadata": {},
   "outputs": [],
   "source": [
    "# | export\n",
    "\n",
    "\n",
    "def generate_app_src(out_path: Union[Path, str]) -> None:\n",
    "    \"\"\"Generates the source code for the test application based on a Jupyter notebook.\n",
    "\n",
    "    Args:\n",
    "        out_path: Path where the generated source code will be saved.\n",
    "\n",
    "    Raises:\n",
    "        ValueError: If the Jupyter notebook file does not exist.\n",
    "    \"\"\"\n",
    "    import nbformat\n",
    "    from nbconvert import PythonExporter\n",
    "\n",
    "    path = Path(\"099_Test_Service.ipynb\")\n",
    "    if not path.exists():\n",
    "        path = Path(\"..\") / \"099_Test_Service.ipynb\"\n",
    "    if not path.exists():\n",
    "        raise ValueError(f\"Path '{path.resolve()}' does not exists.\")\n",
    "\n",
    "    with open(path, \"r\") as f:\n",
    "        notebook = nbformat.reads(f.read(), nbformat.NO_CONVERT)\n",
    "        exporter = PythonExporter()\n",
    "        source, _ = exporter.from_notebook_node(notebook)\n",
    "\n",
    "    with open(out_path, \"w\") as f:\n",
    "        f.write(source)"
   ]
  },
  {
   "cell_type": "code",
   "execution_count": null,
   "id": "ba8a287f",
   "metadata": {},
   "outputs": [],
   "source": [
    "with TemporaryDirectory() as d:\n",
    "    generate_app_src((Path(d) / \"main.py\"))\n",
    "    !ls -al {d}\n",
    "    !cat {d}/main.py | grep @kafka_app"
   ]
  },
  {
   "cell_type": "code",
   "execution_count": null,
   "id": "23b0e599",
   "metadata": {},
   "outputs": [],
   "source": [
    "# | export\n",
    "\n",
    "\n",
    "@contextmanager\n",
    "def generate_app_in_tmp() -> Generator[str, None, None]:\n",
    "    \"\"\"Context manager that generates the test application source code in a temporary directory.\n",
    "\n",
    "    Yields:\n",
    "        str: Import statement for the generated test application.\n",
    "    \"\"\"\n",
    "    with TemporaryDirectory() as d:\n",
    "        src_path = Path(d) / \"main.py\"\n",
    "        generate_app_src(src_path)\n",
    "        with change_dir(d):\n",
    "            import_str = f\"{src_path.stem}:kafka_app\"\n",
    "            yield import_str"
   ]
  },
  {
   "cell_type": "code",
   "execution_count": null,
   "id": "da3cab38",
   "metadata": {},
   "outputs": [],
   "source": [
    "with generate_app_in_tmp() as actual_import_str:\n",
    "    display(actual_import_str)\n",
    "    expected_import_str = \"main:kafka_app\"\n",
    "    assert actual_import_str == expected_import_str"
   ]
  },
  {
   "cell_type": "code",
   "execution_count": null,
   "id": "99ce89c4",
   "metadata": {},
   "outputs": [],
   "source": []
  }
 ],
 "metadata": {
  "kernelspec": {
   "display_name": "python3",
   "language": "python",
   "name": "python3"
  }
 },
 "nbformat": 4,
 "nbformat_minor": 5
}
